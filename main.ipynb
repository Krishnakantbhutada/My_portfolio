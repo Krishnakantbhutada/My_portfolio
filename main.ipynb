{
 "cells": [
  {
   "cell_type": "code",

   "execution_count": 207,

   "id": "3a6c43c3",
   "metadata": {},
   "outputs": [],
   "source": [
    "# imports\n",
    "\n",
    "from dotenv import load_dotenv\n",
    "from openai import OpenAI\n",
    "import json\n",
    "import os\n",
    "import requests\n",
    "from pypdf import PdfReader\n",
    "import gradio as gr"
   ]
  },
  {
   "cell_type": "code",

   "execution_count": 208,

   "id": "0ae6651b",
   "metadata": {},
   "outputs": [],
   "source": [
    "# The usual start\n",
    "\n",
    "load_dotenv(override=True)\n",
    "openai = OpenAI()"
   ]
  },
  {
   "cell_type": "code",

   "execution_count": 209,

   "id": "e3a3f3f0",
   "metadata": {},
   "outputs": [],
   "source": [
    "openai.api_key = os.getenv(\"OPENAI_API_KEY\")"
   ]
  },
  {
   "cell_type": "code",

   "execution_count": 210,

   "id": "7e6da7ac",
   "metadata": {},
   "outputs": [],
   "source": [
    "def get_pdfsummary(reader):\n",
    "    txt = \"\"\n",
    "    for page in reader.pages:\n",
    "        text = page.extract_text()\n",
    "        if text:\n",
    "            txt += text\n",
    "\n",
    "    return txt\n"
   ]
  },
  {
   "cell_type": "markdown",
   "id": "c9670e69",
   "metadata": {},
   "source": [
    "PDF reader"
   ]
  },
  {
   "cell_type": "code",

   "execution_count": 211,

   "id": "5a02615e",
   "metadata": {},
   "outputs": [],
   "source": [
    "reader_1 = PdfReader(\"Krishnakant_bhutada_Data_Scientist_resume.pdf\")\n",
    "reader_2 = PdfReader(\"Krishnakant_Linkedin_profile.pdf\")\n",
    "\n",
    "summary = \"\"\n",
    "\n",
    "summary += get_pdfsummary(reader_1)\n",
    "summary += get_pdfsummary(reader_2)\n",
    "\n",
    "# print(summary)"
   ]
  },
  {
   "cell_type": "markdown",
   "id": "574d8ea8",
   "metadata": {},
   "source": [
    "Tools"
   ]
  },
  {
   "cell_type": "code",

   "execution_count": 212,

   "id": "40d12969",
   "metadata": {},
   "outputs": [],
   "source": [
    "def record_unknown_question(question):\n",
    "    print(f\"Recording {question} asked that I couldn't answer\")\n",
    "    return {\"recorded\": \"ok\"}"
   ]
  },
  {
   "cell_type": "code",

   "execution_count": 213,
   "id": "1d31cda8",
   "metadata": {},
   "outputs": [],
   "source": [
    "def record_user_details(email, name=\"Name not provided\", notes=\"not provided\"):\n",
    "    print(f\"Recording interest from {name} with email {email} and notes {notes}\")\n",
    "    return {\"recorded\": \"ok\"}"
   ]
  },
  {
   "cell_type": "code",
   "execution_count": 214,

   "id": "97a6688e",
   "metadata": {},
   "outputs": [],
   "source": [
    "record_unknown_question_json = {\n",
    "    \"name\": \"record_unknown_question\",\n",
    "    \"description\": \"Always use this tool to record any question that couldn't be answered as you didn't know the answer\",\n",
    "    \"parameters\": {\n",
    "        \"type\": \"object\",\n",
    "        \"properties\": {\n",
    "            \"question\": {\n",
    "                \"type\": \"string\",\n",
    "                \"description\": \"The question that couldn't be answered\"\n",
    "            },\n",
    "        },\n",
    "        \"required\": [\"question\"],\n",
    "        \"additionalProperties\": False\n",
    "    }\n",
    "}"
   ]
  },
  {
   "cell_type": "code",

   "execution_count": 215,
   "id": "d1aa827c",
   "metadata": {},
   "outputs": [],
   "source": [
    "record_user_details_json = {\n",
    "    \"name\": \"record_user_details\",\n",
    "    \"description\": \"Use this tool to record that a user is interested in being in touch and provided an email address\",\n",
    "    \"parameters\": {\n",
    "        \"type\": \"object\",\n",
    "        \"properties\": {\n",
    "            \"email\": {\n",
    "                \"type\": \"string\",\n",
    "                \"description\": \"The email address of this user\"\n",
    "            },\n",
    "            \"name\": {\n",
    "                \"type\": \"string\",\n",
    "                \"description\": \"The user's name, if they provided it\"\n",
    "            }\n",
    "            ,\n",
    "            \"notes\": {\n",
    "                \"type\": \"string\",\n",
    "                \"description\": \"Any additional information about the conversation that's worth recording to give context\"\n",
    "            }\n",
    "        },\n",
    "        \"required\": [\"email\"],\n",
    "        \"additionalProperties\": False\n",
    "    }\n",
    "}"
   ]
  },
  {
   "cell_type": "code",
   "execution_count": 216,


   "id": "fa7d9454",
   "metadata": {},
   "outputs": [],
   "source": [

    "tools = [{\"type\": \"function\", \"function\": record_unknown_question_json},\n",
    "         {\"type\": \"function\", \"function\": record_user_details_json}]"

   ]
  },
  {
   "cell_type": "markdown",
   "id": "848b3d6b",
   "metadata": {},
   "source": [
    "Main code"
   ]
  },
  {
   "cell_type": "code",

   "execution_count": 217,

   "id": "352977d2",
   "metadata": {},
   "outputs": [],
   "source": [
    "name = \"Krishnakant Bhutada\"\n",
    "\n",
    "system_prompt = f\"You are acting as {name}. You are answering questions on {name}'s website, \\\n",
    "particularly questions related to {name}'s career, background, skills and experience. \\\n",
    "Your responsibility is to represent {name} for interactions on the website as faithfully as possible. \\\n",
    "You are given a summary of {name}'s resume and LinkedIn profile which you can use to answer questions. \\\n",
    "Be professional and engaging, as if talking to a potential client or future employer who came across the website. \\\n",
    "If you don't know the answer to any question, use your record_unknown_question tool to record the question that you couldn't answer, even if it's about something trivial or unrelated to career. \\\n",
    "If the user is engaging in discussion, try to steer them towards getting in touch via email; ask for their email and record it using your record_user_details tool. \"\n",
    "\n",
    "system_prompt += f\"\\n\\n## Summary:\\n{summary}\"\n",
    "system_prompt += f\"With this context, please chat with the user, always staying in character as {name}.\"\n",
    "\n",
    "# print(system_prompt)\n"
   ]
  },
  {
   "cell_type": "code",

   "execution_count": 218,
   "id": "2d48c8aa",
   "metadata": {},
   "outputs": [],
   "source": [
    "#Tool call \n",
    "\n",
    "def handle_tool_calls(tool_calls):\n",
    "    results = []\n",
    "    for tool_call in tool_calls:\n",
    "        tool_name = tool_call.function.name\n",
    "        tool_args = json.loads(tool_call.function.arguments)\n",
    "    \n",
    "        if tool_name == \"record_unknown_question\":\n",
    "            result = record_unknown_question(**tool_args)\n",
    "        elif tool_name == \"record_user_details\":\n",
    "            result = record_user_details(**tool_args)\n",
    "\n",
    "        results.append({\"role\": \"tool\",\"content\": json.dumps(result),\"tool_call_id\": tool_call.id})\n",
    "    \n",
    "    return results\n"
   ]
  },
  {
   "cell_type": "code",
   "execution_count": 247,

   "id": "f7fb7302",
   "metadata": {},
   "outputs": [],
   "source": [
    "# Function to call OpenAI\n",
    "\n",
    "def chat(message,history):\n",

    "\n",
    "    done = 1\n",
    "    messages=[{\"role\": \"system\", \"content\": system_prompt}]+ history + [{\"role\": \"user\", \"content\": message}]\n",
    "\n",
    "    while(done):\n",
    "        response = openai.chat.completions.create(\n",
    "            model=\"gpt-4.1-nano\",   \n",
    "            messages=messages,\n",
    "            tools = tools\n",
    "        )\n",
    "        \n",
    "        finish_reason = response.choices[0].finish_reason\n",
    "\n",
    "        if finish_reason == \"tool_calls\":\n",
    "            tool_calls = response.choices[0].message.tool_calls\n",
    "            \n",
    "            message = response.choices[0].message\n",
    "\n",
    "            result  = handle_tool_calls(tool_calls)\n",
    "            print(result)\n",
    "            messages.append(message)\n",
    "            messages.extend(result)\n",
    "        \n",
    "        else:\n",
    "            done = 0\n",
    "        \n",
    "    \n",
    "\n",

    "    return response.choices[0].message.content\n",
    "\n",
    "    \n"
   ]
  },
  {
   "cell_type": "code",

   "execution_count": 255,

   "id": "aa30fa2e",
   "metadata": {},
   "outputs": [],
   "source": [

    "# gr.ChatInterface(chat, type=\"messages\").launch()"
   ]
  },
  {
   "cell_type": "code",
   "execution_count": 256,
   "id": "81ab4034",
   "metadata": {},
   "outputs": [
    {
     "name": "stdout",
     "output_type": "stream",
     "text": [
      "* Running on local URL:  http://127.0.0.1:7933\n",
      "* To create a public link, set `share=True` in `launch()`.\n"
     ]
    },
    {
     "data": {
      "text/html": [
       "<div><iframe src=\"http://127.0.0.1:7933/\" width=\"100%\" height=\"500\" allow=\"autoplay; camera; microphone; clipboard-read; clipboard-write;\" frameborder=\"0\" allowfullscreen></iframe></div>"
      ],
      "text/plain": [
       "<IPython.core.display.HTML object>"
      ]
     },
     "metadata": {},
     "output_type": "display_data"
    },
    {
     "data": {
      "text/plain": []
     },
     "execution_count": 256,
     "metadata": {},
     "output_type": "execute_result"
    },
    {
     "name": "stdout",
     "output_type": "stream",
     "text": [
      "Recording interest from  with email  and notes Inquired about technical skills.\n",
      "[{'role': 'tool', 'content': '{\"recorded\": \"ok\"}', 'tool_call_id': 'call_uY7jvZ5CVlQ59oaj3hQoCFOP'}]\n"
     ]
    }
   ],
   "source": [
    "import gradio as gr\n",
    "\n",
    "# Wrapper for normal text input\n",
    "def handle_user_input(message, history):\n",
    "    response = chat(message, history)   # call your chat function\n",
    "    history.append({\"role\": \"user\", \"content\": message})\n",
    "    history.append({\"role\": \"assistant\", \"content\": response})\n",
    "    return history, \"\"   # update chat + clear input\n",
    "\n",
    "\n",
    "# Handle suggestion click\n",
    "def load_question(question, history):\n",
    "    response = chat(question, history)\n",
    "    history.append({\"role\": \"user\", \"content\": question})\n",
    "    history.append({\"role\": \"assistant\", \"content\": response})\n",
    "    return history, \"\"\n",
    "\n",
    "\n",
    "with gr.Blocks() as demo:\n",
    "    gr.Markdown(\"### Chatbot with Suggested Questions\")\n",
    "\n",
    "    chatbot = gr.Chatbot(type=\"messages\", label=\"Chat Window\", height=400)\n",
    "\n",
    "    # suggestion buttons row\n",
    "    with gr.Row():\n",
    "        btn1 = gr.Button(\"What are your Technical skills\")\n",
    "        btn2 = gr.Button(\"Give me Summary of your profile\")\n",
    "        btn3 = gr.Button(\"What are your project highlights\")\n",
    "\n",
    "    with gr.Row():\n",
    "        txt = gr.Textbox(\n",
    "            show_label=False,\n",
    "            placeholder=\"Type a message...\",\n",
    "            container=False,\n",
    "            scale=8,\n",
    "        )\n",
    "        send_btn = gr.Button(\"➤\", scale=1)  # small send icon\n",
    "\n",
    "    # send message either by pressing Enter or clicking the icon\n",
    "    txt.submit(handle_user_input, [txt, chatbot], [chatbot, txt])\n",
    "    send_btn.click(handle_user_input, [txt, chatbot], [chatbot, txt])\n",
    "\n",
    "    # suggestions trigger chat directly\n",
    "    btn1.click(load_question, [btn1, chatbot], [chatbot, txt])\n",
    "    btn2.click(load_question, [btn2, chatbot], [chatbot, txt])\n",
    "    btn3.click(load_question, [btn3, chatbot], [chatbot, txt])\n",
    "    btn4.click(load_question, [btn4, chatbot], [chatbot, txt])\n",
    "\n",
    "demo.launch()\n"
   ]
  },
  {
   "cell_type": "code",
   "execution_count": null,
   "id": "a0bec853",
   "metadata": {},
   "outputs": [],
   "source": []

  }
 ],
 "metadata": {
  "kernelspec": {
   "display_name": ".venv",
   "language": "python",
   "name": "python3"
  },
  "language_info": {
   "codemirror_mode": {
    "name": "ipython",
    "version": 3
   },
   "file_extension": ".py",
   "mimetype": "text/x-python",
   "name": "python",
   "nbconvert_exporter": "python",
   "pygments_lexer": "ipython3",
   "version": "3.12.11"
  }
 },
 "nbformat": 4,
 "nbformat_minor": 5
}
